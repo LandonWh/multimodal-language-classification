{
 "cells": [
  {
   "cell_type": "code",
   "execution_count": 1,
   "metadata": {},
   "outputs": [
    {
     "name": "stderr",
     "output_type": "stream",
     "text": [
      "Reading metadata...: 16354it [00:00, 48552.70it/s]\n"
     ]
    },
    {
     "name": "stdout",
     "output_type": "stream",
     "text": [
      "Loaded transcripts for language: English\n"
     ]
    },
    {
     "name": "stderr",
     "output_type": "stream",
     "text": [
      "Reading metadata...: 15520it [00:00, 53566.97it/s]\n"
     ]
    },
    {
     "name": "stdout",
     "output_type": "stream",
     "text": [
      "Loaded transcripts for language: Spanish\n"
     ]
    },
    {
     "name": "stderr",
     "output_type": "stream",
     "text": [
      "Reading metadata...: 9630it [00:00, 50510.91it/s]\n"
     ]
    },
    {
     "name": "stdout",
     "output_type": "stream",
     "text": [
      "Loaded transcripts for language: Russian\n"
     ]
    },
    {
     "name": "stderr",
     "output_type": "stream",
     "text": [
      "Reading metadata...: 4604it [00:00, 36802.59it/s]\n"
     ]
    },
    {
     "name": "stdout",
     "output_type": "stream",
     "text": [
      "Loaded transcripts for language: Japanese\n"
     ]
    },
    {
     "name": "stderr",
     "output_type": "stream",
     "text": [
      "Reading metadata...: 10581it [00:00, 62551.26it/s]\n"
     ]
    },
    {
     "name": "stdout",
     "output_type": "stream",
     "text": [
      "Loaded transcripts for language: Mandarin\n",
      "      language                                           sentence  \\\n",
      "0      English  Joe Keaton disapproved of films, and Buster al...   \n",
      "1      English                               She'll be all right.   \n",
      "2      English                                                six   \n",
      "3      English                         All's well that ends well.   \n",
      "4      English  It is a busy market town that serves a large s...   \n",
      "...        ...                                                ...   \n",
      "4990  Mandarin                                       这使得她增加更多的歌迷。   \n",
      "4991  Mandarin                                    美洲拟鲽是鲽科下的一种比目鱼。   \n",
      "4992  Mandarin                          岛根县立美术馆是位于日本岛根县松江市的一座美术馆。   \n",
      "4993  Mandarin                                罗登贝瑞的许多概念在当时是相当先进的。   \n",
      "4994  Mandarin                               环七通与东急目黑线立体交差附近为洗足站。   \n",
      "\n",
      "                                                  audio  \n",
      "0     {'path': 'common_voice_en_27710027.mp3', 'arra...  \n",
      "1     {'path': 'common_voice_en_699711.mp3', 'array'...  \n",
      "2     {'path': 'common_voice_en_21953345.mp3', 'arra...  \n",
      "3     {'path': 'common_voice_en_18132047.mp3', 'arra...  \n",
      "4     {'path': 'common_voice_en_27340672.mp3', 'arra...  \n",
      "...                                                 ...  \n",
      "4990  {'path': 'common_voice_zh-CN_18980609.mp3', 'a...  \n",
      "4991  {'path': 'common_voice_zh-CN_22062984.mp3', 'a...  \n",
      "4992  {'path': 'common_voice_zh-CN_22062987.mp3', 'a...  \n",
      "4993  {'path': 'common_voice_zh-CN_22119700.mp3', 'a...  \n",
      "4994  {'path': 'common_voice_zh-CN_22119702.mp3', 'a...  \n",
      "\n",
      "[4995 rows x 3 columns]\n"
     ]
    }
   ],
   "source": [
    "import pandas as pd\n",
    "from datasets import load_dataset\n",
    "from collections import OrderedDict\n",
    "\n",
    "# List of language codes for the desired languages\n",
    "language_codes = {\n",
    "    \"en\": \"English\",\n",
    "    \"es\": \"Spanish\",\n",
    "    \"ru\": \"Russian\",\n",
    "    \"ja\": \"Japanese\",\n",
    "    \"zh-CN\": \"Mandarin\",\n",
    "}\n",
    "\n",
    "transcripts = []\n",
    "\n",
    "for lang_code, lang_name in language_codes.items():\n",
    "    try:\n",
    "        dataset = load_dataset(\"mozilla-foundation/common_voice_11_0\", lang_code, split=\"test\", streaming=True)\n",
    "        count = 0\n",
    "        for x in dataset:\n",
    "            count += 1\n",
    "            if count >= 1000:\n",
    "                break\n",
    "            transcripts.append({\"language\": lang_name, \"sentence\": x[\"sentence\"], \"audio\": x[\"audio\"]})\n",
    "        print(f\"Loaded transcripts for language: {lang_name}\")\n",
    "    except Exception as e:\n",
    "        print(f\"Error loading transcripts for language: {lang_name}. Error: {str(e)}\")\n",
    "\n",
    "df = pd.DataFrame(transcripts)\n",
    "print(df)"
   ]
  },
  {
   "cell_type": "code",
   "execution_count": 9,
   "metadata": {},
   "outputs": [
    {
     "name": "stdout",
     "output_type": "stream",
     "text": [
      "    language                                           sentence  \\\n",
      "0    English  Joe Keaton disapproved of films, and Buster al...   \n",
      "1    English                               She'll be all right.   \n",
      "2    English                                                six   \n",
      "3    English                         All's well that ends well.   \n",
      "4    English  It is a busy market town that serves a large s...   \n",
      "..       ...                                                ...   \n",
      "994  English       \"Why did you want to see me?\" the boy asked.   \n",
      "995  English  It was the tallest reinforced concrete structu...   \n",
      "996  English                 Aren't the two rather intertwined?   \n",
      "997  English  Also there was a decrease in trade interest be...   \n",
      "998  English  Many see this as a sign of growing reconciliat...   \n",
      "\n",
      "                                                 audio  \n",
      "0    {'path': 'common_voice_en_27710027.mp3', 'arra...  \n",
      "1    {'path': 'common_voice_en_699711.mp3', 'array'...  \n",
      "2    {'path': 'common_voice_en_21953345.mp3', 'arra...  \n",
      "3    {'path': 'common_voice_en_18132047.mp3', 'arra...  \n",
      "4    {'path': 'common_voice_en_27340672.mp3', 'arra...  \n",
      "..                                                 ...  \n",
      "994  {'path': 'common_voice_en_39175.mp3', 'array':...  \n",
      "995  {'path': 'common_voice_en_33080211.mp3', 'arra...  \n",
      "996  {'path': 'common_voice_en_18154502.mp3', 'arra...  \n",
      "997  {'path': 'common_voice_en_18124933.mp3', 'arra...  \n",
      "998  {'path': 'common_voice_en_19994389.mp3', 'arra...  \n",
      "\n",
      "[999 rows x 3 columns]\n"
     ]
    }
   ],
   "source": [
    "print(df[df['language'] == 'English'])"
   ]
  },
  {
   "cell_type": "code",
   "execution_count": null,
   "metadata": {},
   "outputs": [],
   "source": []
  }
 ],
 "metadata": {
  "kernelspec": {
   "display_name": "base",
   "language": "python",
   "name": "python3"
  },
  "language_info": {
   "codemirror_mode": {
    "name": "ipython",
    "version": 3
   },
   "file_extension": ".py",
   "mimetype": "text/x-python",
   "name": "python",
   "nbconvert_exporter": "python",
   "pygments_lexer": "ipython3",
   "version": "3.9.13"
  },
  "orig_nbformat": 4
 },
 "nbformat": 4,
 "nbformat_minor": 2
}
