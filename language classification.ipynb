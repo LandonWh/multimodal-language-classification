{
 "cells": [
  {
   "cell_type": "code",
   "execution_count": 1,
   "metadata": {},
   "outputs": [
    {
     "name": "stderr",
     "output_type": "stream",
     "text": [
      "Reading metadata...: 21027it [00:00, 23656.13it/s]\n"
     ]
    }
   ],
   "source": [
    "from datasets import load_dataset\n",
    "\n",
    "# List of language codes for the Common Voice dataset\n",
    "language_codes = [\"ab\", \"ar\"] # \"as\", \"ast\", \"az\", \"ba\", \"be\", \"bg\", \"bn\", \"br\", \"bs\", \"ca\", \"ceb\", \"cs\", \"cy\", \"da\", \"de\", \"dsb\", \"dv\", \"el\", \"en\", \"eo\", \"es\", \"et\", \"eu\", \"fa\", \"fi\", \"fr\", \"fy\", \"ga\", \"gd\", \"gl\", \"gn\", \"gu\", \"he\", \"hi\", \"hr\", \"hsb\", \"ht\", \"hu\", \"hy\", \"ia\", \"id\", \"is\", \"it\", \"ja\", \"jv\", \"ka\", \"kab\", \"kk\", \"kl\", \"km\", \"kn\", \"ko\", \"kpv\", \"ks\", \"ku\", \"ky\", \"la\", \"lb\", \"lez\", \"lt\", \"lv\", \"mg\", \"mhr\", \"mi\", \"mk\", \"ml\", \"mn\", \"mr\", \"ms\", \"mt\", \"my\", \"myv\", \"mzn\", \"nah\", \"nap\", \"nb\", \"ne\", \"nl\", \"nn\", \"oc\", \"or\", \"os\", \"pa\", \"pl\", \"pms\", \"pnt\", \"ps\", \"pt\", \"qu\", \"rm\", \"ro\", \"ru\", \"rw\", \"sa\", \"sat\", \"sc\", \"sco\", \"sd\", \"sh\", \"si\", \"sk\", \"sl\", \"smn\", \"sn\", \"so\", \"sq\", \"sr\", \"su\", \"sv\", \"sw\", \"ta\", \"te\", \"tg\", \"th\", \"tk\", \"tl\", \"tr\", \"tt\", \"tyv\", \"ug\", \"uk\", \"ur\", \"uz\", \"vi\", \"wa\", \"xh\", \"yi\", \"zh\", \"zu\"]\n",
    "\n",
    "transcripts = {}\n",
    "\n",
    "for lang_code in language_codes:\n",
    "    try:\n",
    "        dataset = load_dataset(\"mozilla-foundation/common_voice_11_0\", lang_code, split=\"train\", streaming=True)\n",
    "        transcripts[lang_code] = [x[\"sentence\"] for x in dataset]\n",
    "        print(f\"Loaded transcripts for language: {lang_code}\")\n",
    "    except Exception as e:\n",
    "        print(f\"Error loading transcripts for language: {lang_code}. Error: {e}\")\n",
    "\n",
    "print(transcripts)\n"
   ]
  }
 ],
 "metadata": {
  "kernelspec": {
   "display_name": "base",
   "language": "python",
   "name": "python3"
  },
  "language_info": {
   "codemirror_mode": {
    "name": "ipython",
    "version": 3
   },
   "file_extension": ".py",
   "mimetype": "text/x-python",
   "name": "python",
   "nbconvert_exporter": "python",
   "pygments_lexer": "ipython3",
   "version": "3.9.13"
  },
  "orig_nbformat": 4
 },
 "nbformat": 4,
 "nbformat_minor": 2
}
