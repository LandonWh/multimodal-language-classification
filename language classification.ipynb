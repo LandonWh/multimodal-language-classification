{
 "cells": [
  {
   "cell_type": "code",
   "execution_count": 1,
   "metadata": {},
   "outputs": [
    {
     "name": "stderr",
     "output_type": "stream",
     "text": [
      "Reading metadata...: 16354it [00:00, 56570.03it/s]\n"
     ]
    }
   ],
   "source": [
    "import pandas as pd\n",
    "from datasets import load_dataset\n",
    "from collections import OrderedDict\n",
    "\n",
    "# List of language codes for the desired languages\n",
    "language_codes = {\n",
    "    \"en\": \"English\",\n",
    "    \"es\": \"Spanish\",\n",
    "    \"ru\": \"Russian\",\n",
    "    \"ja\": \"Japanese\",\n",
    "    \"zh-CN\": \"Mandarin\",\n",
    "}\n",
    "\n",
    "transcripts = []\n",
    "\n",
    "for lang_code, lang_name in language_codes.items():\n",
    "    try:\n",
    "        dataset = load_dataset(\"mozilla-foundation/common_voice_11_0\", lang_code, split=\"test\", streaming=True)\n",
    "        for x in dataset:\n",
    "            transcripts.append({\"language\": lang_name, \"sentence\": x[\"sentence\"], \"audio\": x[\"audio\"]})\n",
    "        print(f\"Loaded transcripts for language: {lang_name}\")\n",
    "    except Exception as e:\n",
    "        print(f\"Error loading transcripts for language: {lang_name}. Error: {str(e)}\")\n",
    "\n",
    "df = pd.DataFrame(transcripts)\n",
    "print(df)"
   ]
  },
  {
   "cell_type": "code",
   "execution_count": 8,
   "metadata": {},
   "outputs": [
    {
     "name": "stdout",
     "output_type": "stream",
     "text": [
      "9630\n"
     ]
    }
   ],
   "source": [
    "print(len(transcripts['Russian']))"
   ]
  }
 ],
 "metadata": {
  "kernelspec": {
   "display_name": "base",
   "language": "python",
   "name": "python3"
  },
  "language_info": {
   "codemirror_mode": {
    "name": "ipython",
    "version": 3
   },
   "file_extension": ".py",
   "mimetype": "text/x-python",
   "name": "python",
   "nbconvert_exporter": "python",
   "pygments_lexer": "ipython3",
   "version": "3.9.13"
  },
  "orig_nbformat": 4
 },
 "nbformat": 4,
 "nbformat_minor": 2
}
